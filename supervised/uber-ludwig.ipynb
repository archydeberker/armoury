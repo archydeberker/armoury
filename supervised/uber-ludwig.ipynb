{
 "cells": [
  {
   "cell_type": "markdown",
   "metadata": {},
   "source": [
    "# Ludwig from Uber\n",
    "[Ludwig](https://eng.uber.com/introducing-ludwig/) is a \"code-free\" system for training and deploying simple ML models when your data is in a tabular format. They have the [fanciest Github pages](https://uber.github.io/ludwig/) I've ever seen.\n",
    "\n",
    "They also provide a Python API, but my experience playing with it in this notebook was not great. Better to try the CLI interface they advocate."
   ]
  },
  {
   "cell_type": "markdown",
   "metadata": {},
   "source": [
    "### Titanic example"
   ]
  },
  {
   "cell_type": "code",
   "execution_count": null,
   "metadata": {
    "collapsed": true
   },
   "outputs": [],
   "source": [
    "import yaml\n",
    "import pandas as pd\n",
    "import numpy as np\n",
    "\n",
    "from ludwig.api import LudwigModel"
   ]
  },
  {
   "cell_type": "markdown",
   "metadata": {},
   "source": [
    "If you use the CLI Ludwig will do your splits for you, but I'm not entirely sure how they persist the splits over calls to `ludwig train` and `ludwig predict`. \n",
    "\n",
    "Since we're using the Python API I think we have to do the splits ourselves."
   ]
  },
  {
   "cell_type": "code",
   "execution_count": null,
   "metadata": {},
   "outputs": [],
   "source": [
    "titanic_df"
   ]
  },
  {
   "cell_type": "code",
   "execution_count": null,
   "metadata": {},
   "outputs": [],
   "source": [
    "titanic_df = pd.read_csv('http://biostat.mc.vanderbilt.edu/wiki/pub/Main/DataSets/titanic3.csv')\n",
    "\n",
    "train_idx = np.random.randint(0, len(titanic_df), np.int(0.8*len(titanic_df)))\n",
    "train_df = titanic_df.iloc[train_idx]\n",
    "test_df = titanic_df.iloc[~titanic_df.index.isin(train_idx)]\n",
    "assert len(set(train_df.index).intersection(set(test_df.index))) is 0"
   ]
  },
  {
   "cell_type": "markdown",
   "metadata": {},
   "source": [
    "Use the model definition from [the docs](https://uber.github.io/ludwig/examples/#kaggles-titanic-predicting-survivors), although I converted the feature names to lowercase to match this csv.\n",
    "\n",
    "The model definition defines and *types* th input features,"
   ]
  },
  {
   "cell_type": "code",
   "execution_count": null,
   "metadata": {},
   "outputs": [],
   "source": [
    "model_definition = yaml.safe_load(open('./titanic-model-def.yaml'))\n",
    "model_definition"
   ]
  },
  {
   "cell_type": "code",
   "execution_count": null,
   "metadata": {},
   "outputs": [],
   "source": [
    "# train a model\n",
    "model = LudwigModel(model_definition)\n",
    "train_stats = model.train(train_df)\n",
    "\n",
    "# obtain predictions\n",
    "predictions = model.predict(test_df)"
   ]
  },
  {
   "cell_type": "code",
   "execution_count": null,
   "metadata": {},
   "outputs": [],
   "source": [
    "predictions"
   ]
  },
  {
   "cell_type": "code",
   "execution_count": null,
   "metadata": {},
   "outputs": [],
   "source": [
    "print(\"Accuracy was \", sum(test_df.survived.values == predictions.survived_predictions.values) / len(predictions))"
   ]
  },
  {
   "cell_type": "markdown",
   "metadata": {},
   "source": [
    "# Visualization\n",
    "This training run cretated a folder called `results` which we can now interrogate. The interaction with the visualization tools seems a bit clunky via python. It's also really not clear where the different `experiment runs` come from and how they differ!"
   ]
  },
  {
   "cell_type": "code",
   "execution_count": null,
   "metadata": {
    "collapsed": true
   },
   "outputs": [],
   "source": [
    "!pip install seaborn"
   ]
  },
  {
   "cell_type": "code",
   "execution_count": null,
   "metadata": {},
   "outputs": [],
   "source": [
    "from ludwig import visualize"
   ]
  },
  {
   "cell_type": "code",
   "execution_count": null,
   "metadata": {},
   "outputs": [],
   "source": [
    "visualize.learning_curves_cli(training_statistics=['./results/api_experiment_run_2/training_statistics.json'],\n",
    "                             output_feature_name='survived')"
   ]
  },
  {
   "cell_type": "code",
   "execution_count": null,
   "metadata": {
    "collapsed": true
   },
   "outputs": [],
   "source": []
  }
 ],
 "metadata": {
  "kernelspec": {
   "display_name": "armoury",
   "language": "python",
   "name": "armoury"
  },
  "language_info": {
   "codemirror_mode": {
    "name": "ipython",
    "version": 3
   },
   "file_extension": ".py",
   "mimetype": "text/x-python",
   "name": "python",
   "nbconvert_exporter": "python",
   "pygments_lexer": "ipython3",
   "version": "3.6.9"
  }
 },
 "nbformat": 4,
 "nbformat_minor": 1
}
